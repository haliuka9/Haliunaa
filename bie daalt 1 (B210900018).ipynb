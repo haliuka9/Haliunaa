{
  "nbformat": 4,
  "nbformat_minor": 0,
  "metadata": {
    "colab": {
      "provenance": []
    },
    "kernelspec": {
      "name": "python3",
      "display_name": "Python 3"
    },
    "language_info": {
      "name": "python"
    }
  },
  "cells": [
    {
      "cell_type": "code",
      "source": [
        "!pip install spylls\n",
        "!pip install pyspellchecker"
      ],
      "metadata": {
        "colab": {
          "base_uri": "https://localhost:8080/"
        },
        "id": "6u5KuvbHX1zw",
        "outputId": "5240d876-fb59-47e4-b32e-457cb5bc78bf"
      },
      "execution_count": null,
      "outputs": [
        {
          "output_type": "stream",
          "name": "stdout",
          "text": [
            "Requirement already satisfied: spylls in /usr/local/lib/python3.10/dist-packages (0.1.7)\n",
            "Requirement already satisfied: pyspellchecker in /usr/local/lib/python3.10/dist-packages (0.8.1)\n"
          ]
        }
      ]
    },
    {
      "cell_type": "code",
      "source": [
        "import re\n",
        "from collections import Counter\n",
        "import tensorflow as tf\n",
        "import numpy as np\n",
        "from spylls.hunspell import Dictionary\n",
        "from spellchecker import SpellChecker\n",
        "\n",
        "# COMMON_WORDS жагсаалт\n",
        "COMMON_WORDS = {\"юм\", \"нь\", \"ба\", \"болон\", \"байна\", \"гэх\", \"бол\"}\n",
        "\n",
        "# Dummy classifier: Replace with your TensorFlow model and tokenizer\n",
        "def load_dummy_model():\n",
        "    model = tf.keras.Sequential([\n",
        "        tf.keras.layers.Embedding(input_dim=10000, output_dim=64),\n",
        "        tf.keras.layers.GlobalAveragePooling1D(),\n",
        "        tf.keras.layers.Dense(4, activation='softmax')  # Economic, Sports, Literature, Politics\n",
        "    ])\n",
        "    model.compile(optimizer='adam', loss='sparse_categorical_crossentropy', metrics=['accuracy'])\n",
        "    return model\n",
        "\n",
        "model = load_dummy_model()\n",
        "\n",
        "def classify_text(text):\n",
        "    if \"спорт\" in text.lower():\n",
        "        return 1, \"Спорт\"\n",
        "    elif \"уран зохиол\" in text.lower():\n",
        "        return 2, \"Уран зохиол\"\n",
        "    elif \"эдийн засаг\" in text.lower():\n",
        "        return 0, \"Эдийн засаг\"\n",
        "    elif \"улс төр\" in text.lower():\n",
        "        return 4, \"Улс төр\"\n",
        "    else:\n",
        "        return 3, \"Бусад\"\n",
        "\n",
        "def clean_text(text):\n",
        "    return re.sub(r\"[^\\u0400-\\u04FF\\s]\", \"\", text)  # Кирилл үсэг болон зайг үлдээх\n",
        "\n",
        "# PySpellChecker ашиглах\n",
        "spell_checker = SpellChecker(language=None)\n",
        "spell_checker.word_frequency.load_text_file('/content/mn_MN.dic')\n",
        "\n",
        "def check_spelling(word):\n",
        "    \"\"\"Check spelling using PySpellChecker\"\"\"\n",
        "    if word in spell_checker:\n",
        "        return True, []\n",
        "    else:\n",
        "        suggestions = spell_checker.candidates(word)\n",
        "        return False, suggestions\n",
        "\n",
        "def extract_root_words(text):\n",
        "    words = clean_text(text).split()\n",
        "    root_words = []\n",
        "    misspelled = {}\n",
        "\n",
        "    for word in words:\n",
        "        is_correct, suggestions = check_spelling(word)\n",
        "        root_words.append(word)\n",
        "        if not is_correct:\n",
        "            misspelled[word] = suggestions\n",
        "\n",
        "    return root_words, misspelled\n",
        "\n",
        "def process_text(text):\n",
        "    root_words, misspelled = extract_root_words(text)\n",
        "    word_counts = Counter(root_words)\n",
        "    filtered_words = {word: count for word, count in word_counts.items() if word not in COMMON_WORDS}\n",
        "    top_words = sorted(filtered_words.items(), key=lambda x: x[1], reverse=True)[:10]\n",
        "    classification_id, category = classify_text(text)\n",
        "\n",
        "    return {\n",
        "        \"misspelled\": misspelled,\n",
        "        \"unique_words\": len(set(root_words)),\n",
        "        \"top_words\": top_words,\n",
        "        \"classification\": category\n",
        "    }\n",
        "\n",
        "# Input text\n",
        "text = \"\"\"\n",
        "Хүй нэгдлийн нийгэмд эдийн засгийн хөгжлийн түвшин доогуур байсан нь хэрэглээ зөвхөн хүний амь зууж оршин тогтнохын төлөө тэмцлийн хэмжээнд байв. Анх эртний хүмүүс ан агнах, жимс, ногоо цуглуулах төдийхөнөөр амьжиргаагаа залгуулж байсан бол шинэ дэвшилтэд чулуун зэвсгийн хувьсгалын үр дүнд газар тариалан, мал аж ахуй үүссэн байна. Нийгмийн хөгжил нь хөдөлмөрийн хувиарлалтад хүргэсэн - газар тариалангийн болон бэлчээрийн мал аж ахуйн овог аймгууд бий болж, гар урчууд гарч ирсэн бөгөөд тэдний анхных нь дархчууд байжээ. Улмаар нийгмийн тэгш бус байдал үүсч, нийгмийн давхарга, төр бий болсон бөгөөд боолчлолын буюу хамжилгат нийгэм үүссэн байна. Бараа солилцоо (бартер) аажмаар хөгжиж байгаад мөнгө гарч ирснээр худалдаа арилжаа болж хувирсан байна.\n",
        "\"\"\"\n",
        "def process_text(text):\n",
        "    root_words, misspelled = extract_root_words(text)\n",
        "    word_counts = Counter(root_words)\n",
        "    filtered_words = {word: count for word, count in word_counts.items() if word not in COMMON_WORDS}\n",
        "    top_words = sorted(filtered_words.items(), key=lambda x: x[1], reverse=True)[:10]\n",
        "    classification_id, category = classify_text(text)\n",
        "\n",
        "    return {\n",
        "        \"misspelled\": misspelled,\n",
        "        \"unique_words\": len(set(root_words)),\n",
        "        \"top_words\": top_words,\n",
        "        \"classification\": category\n",
        "    }\n",
        "\n",
        "# Тест текстийн үр дүнг хэвлэх\n",
        "print(\"Misspelled Words with Suggestions:\")\n",
        "for word, suggestions in result[\"misspelled\"].items():\n",
        "    # `None` утгыг хоосон жагсаалт болгон хөрвүүлнэ\n",
        "    suggestions_list = suggestions if suggestions is not None else []\n",
        "    print(f\" - {word}: {', '.join(suggestions_list)}\")\n",
        "\n",
        "print(\"\\nTotal Unique Words:\", result[\"unique_words\"])\n",
        "print(\"\\nTop 10 Frequent Words (Excluding Common Words):\")\n",
        "for word, count in result[\"top_words\"]:\n",
        "    print(f\" - {word}: {count}\")\n",
        "\n",
        "print(\"\\nText Category:\", result[\"classification\"])\n"
      ],
      "metadata": {
        "colab": {
          "base_uri": "https://localhost:8080/"
        },
        "id": "32AptZsg2bLu",
        "outputId": "b5f3e2dc-de52-4710-cadd-fc0915540691"
      },
      "execution_count": null,
      "outputs": [
        {
          "output_type": "stream",
          "name": "stdout",
          "text": [
            "Misspelled Words with Suggestions:\n",
            "\n",
            "Total Unique Words: 383\n",
            "\n",
            "Top 10 Frequent Words (Excluding Common Words):\n",
            " - уран: 10\n",
            " - Уран: 7\n",
            " - зохиол: 7\n",
            " - зохиолын: 6\n",
            " - зууны: 4\n",
            " - бодит: 4\n",
            " - олон: 4\n",
            " - байдал,: 4\n",
            " - зүйл: 3\n",
            " - цаг: 3\n",
            "\n",
            "Text Category: Уран зохиол\n"
          ]
        }
      ]
    }
  ]
}